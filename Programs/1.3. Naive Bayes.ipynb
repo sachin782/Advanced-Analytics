{
 "cells": [
  {
   "cell_type": "markdown",
   "metadata": {},
   "source": [
    "# Naive Bayes"
   ]
  },
  {
   "cell_type": "code",
   "execution_count": 1,
   "metadata": {},
   "outputs": [],
   "source": [
    "import numpy as np\n",
    "import pandas as pd\n",
    "from sklearn import preprocessing\n",
    "from sklearn.naive_bayes import GaussianNB"
   ]
  },
  {
   "cell_type": "markdown",
   "metadata": {},
   "source": [
    "Read data from excel file Play.\n"
   ]
  },
  {
   "cell_type": "code",
   "execution_count": 2,
   "metadata": {},
   "outputs": [
    {
     "name": "stdout",
     "output_type": "stream",
     "text": [
      "     Weather  Temp Play\n",
      "0      Sunny   Hot   No\n",
      "1      Sunny   Hot   No\n",
      "2   Overcast   Hot  Yes\n",
      "3      Rainy  Mild  Yes\n",
      "4      Rainy  Cool  Yes\n",
      "5      Rainy  Cool  No \n",
      "6   Overcast  Cool  Yes\n",
      "7      Sunny  Mild   No\n",
      "8      Sunny  Cool  Yes\n",
      "9      Rainy  Mild  Yes\n",
      "10     Sunny  Mild  Yes\n",
      "11  Overcast  Mild  Yes\n",
      "12  Overcast   Hot  Yes\n",
      "13     Rainy  Mild   No\n"
     ]
    }
   ],
   "source": [
    "df = pd.read_excel('Play.xlsx')\n",
    "print(df)"
   ]
  },
  {
   "cell_type": "markdown",
   "metadata": {},
   "source": [
    "Encode data as:\n",
    "\n",
    "For Weather: 0-Overcast 1-Rain 2-Sunny\n",
    "\n",
    "For Temperature: 0-Cool 1-Hot 2-Mild\n",
    "\n",
    "For Play: 0-No 2-Yes\n"
   ]
  },
  {
   "cell_type": "code",
   "execution_count": 3,
   "metadata": {},
   "outputs": [
    {
     "name": "stdout",
     "output_type": "stream",
     "text": [
      "Weather:  [2 2 0 1 1 1 0 2 2 1 2 0 0 1]\n",
      "Temp:  [1 1 1 2 0 0 0 2 0 2 2 2 1 2]\n",
      "Play:  [0 0 2 2 2 1 2 0 2 2 2 2 2 0]\n"
     ]
    }
   ],
   "source": [
    "le = preprocessing.LabelEncoder()\n",
    "weather_encoded=le.fit_transform(df.Weather)\n",
    "temp_encoded=le.fit_transform(df.Temp)\n",
    "label=le.fit_transform(df.Play)\n",
    "print('Weather: ',weather_encoded)\n",
    "print('Temp: ',temp_encoded)\n",
    "print('Play: ',label)"
   ]
  },
  {
   "cell_type": "markdown",
   "metadata": {},
   "source": [
    "Construct a features matrix containing weather and temperature as encoded values."
   ]
  },
  {
   "cell_type": "code",
   "execution_count": 4,
   "metadata": {},
   "outputs": [
    {
     "name": "stdout",
     "output_type": "stream",
     "text": [
      "[[2 1]\n",
      " [2 1]\n",
      " [0 1]\n",
      " [1 2]\n",
      " [1 0]\n",
      " [1 0]\n",
      " [0 0]\n",
      " [2 2]\n",
      " [2 0]\n",
      " [1 2]\n",
      " [2 2]\n",
      " [0 2]\n",
      " [0 1]\n",
      " [1 2]]\n"
     ]
    }
   ],
   "source": [
    "features = np.array([weather_encoded,temp_encoded])\n",
    "features = features.T\n",
    "print(features)"
   ]
  },
  {
   "cell_type": "markdown",
   "metadata": {},
   "source": [
    "Construct Gaussian Naive Bayes model."
   ]
  },
  {
   "cell_type": "code",
   "execution_count": 5,
   "metadata": {},
   "outputs": [
    {
     "data": {
      "text/plain": [
       "GaussianNB(priors=None, var_smoothing=1e-09)"
      ]
     },
     "execution_count": 5,
     "metadata": {},
     "output_type": "execute_result"
    }
   ],
   "source": [
    "model = GaussianNB()\n",
    "model.fit(features,label)"
   ]
  },
  {
   "cell_type": "markdown",
   "metadata": {},
   "source": [
    "Predict value of play for given data"
   ]
  },
  {
   "cell_type": "code",
   "execution_count": 6,
   "metadata": {},
   "outputs": [
    {
     "name": "stdout",
     "output_type": "stream",
     "text": [
      "Predicted Value: Yes\n"
     ]
    }
   ],
   "source": [
    "predicted= model.predict([[0,2]]) # 0:Overcast, 2:Mild\n",
    "if predicted == 2:\n",
    "    print(\"Predicted Value: Yes\")\n",
    "else:\n",
    "    print(\"Predicted Value: No\")"
   ]
  }
 ],
 "metadata": {
  "kernelspec": {
   "display_name": "Python 3",
   "language": "python",
   "name": "python3"
  },
  "language_info": {
   "codemirror_mode": {
    "name": "ipython",
    "version": 3
   },
   "file_extension": ".py",
   "mimetype": "text/x-python",
   "name": "python",
   "nbconvert_exporter": "python",
   "pygments_lexer": "ipython3",
   "version": "3.7.3"
  }
 },
 "nbformat": 4,
 "nbformat_minor": 2
}
